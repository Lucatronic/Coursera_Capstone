{
 "cells": [
  {
   "cell_type": "markdown",
   "metadata": {},
   "source": [
    "# Capstone Project - The Battle of Neighborhoods"
   ]
  },
  {
   "cell_type": "markdown",
   "metadata": {},
   "source": [
    "## Introduction: Business Problem"
   ]
  },
  {
   "cell_type": "markdown",
   "metadata": {},
   "source": [
    "__Background:__\n",
    "\n",
    "An investor wants to invest in the tourism sector in the United States. Tourism is one of the most powerful economic sectors, since it can generate many jobs and great economic returns.\n",
    "\n",
    "The investor has decided to participate in this economic niche is through a Hotel. With this business model, you can generate large incomes through accommodation, services and much more, depending on the various options offered to customers.\n",
    "\n",
    "The investor has decided to open the hotel somewhere in Miami - Florida for the following reasons:\n",
    "\n",
    "The state of Florida is one of the homes of the quintessential tourist attractions in the United States. Miami is the seat of Miami-Dade County, and the cultural, economic and financial center of South Florida in the United States. Starting a business to Miami has many advantages over other places, it is considered a tax haven, with no local or state personal income taxes and Florida's state corporate tax rate of 5.5% is among the lowest in the nation. Compared to places like California, New York, and New Jersey, a decision to move to Miami can be similar to an automatic 10 percent increase in revenue.\n",
    "\n",
    "This implies that the market is highly competitive. Thus, to start a business needs to be carefully analyzed. The insights derived from analysis will give good understanding of the business environment which help in strategically targeting the market. This will help in reduction of risk and the return on Investment will be reasonable.\n",
    " \n",
    "A fundamental aspect is the choice of the location of the hotel. The investor has hired Data Scientists to help answer the following question: Where is the best place to open a Hotel in the city of Miami?\n",
    "\n",
    "__Criteria:__\n",
    "\n",
    "The location must meet these requirements:\n",
    "- The location must be close to restaurants, bars, shoppings and tourist attractions to guarantee heavy traffic of people.\n",
    "- It must be located in an area where there are not many hotels nearby.\n",
    "- The location should be as close as possible to the city center, while meeting the other two criteria.\n",
    "\n",
    "The Data Scientists team will select at least 5 locations that best meet these criteria for the Investor's consideration.\n",
    "\n"
   ]
  },
  {
   "cell_type": "markdown",
   "metadata": {},
   "source": [
    "## Data:"
   ]
  },
  {
   "cell_type": "markdown",
   "metadata": {},
   "source": [
    "To solve the problem, we will need the following data:\n",
    "- List of neighborhoods in the city of Miami in the State of Florida of the United States.\n",
    "- Coordinates of latitude and longitude of those neighborhoods. This is necessary to draw the map and also to obtain the data of the place.\n",
    "- Venue data, particularly data related to Hotels, Bars, Restaurants, Shoppings and Tourist Attractions. We will use this data to perform clustering on the neighbourhoods."
   ]
  },
  {
   "cell_type": "code",
   "execution_count": null,
   "metadata": {},
   "outputs": [],
   "source": []
  }
 ],
 "metadata": {
  "kernelspec": {
   "display_name": "Python",
   "language": "python",
   "name": "conda-env-python-py"
  },
  "language_info": {
   "codemirror_mode": {
    "name": "ipython",
    "version": 3
   },
   "file_extension": ".py",
   "mimetype": "text/x-python",
   "name": "python",
   "nbconvert_exporter": "python",
   "pygments_lexer": "ipython3",
   "version": "3.6.10"
  }
 },
 "nbformat": 4,
 "nbformat_minor": 4
}
